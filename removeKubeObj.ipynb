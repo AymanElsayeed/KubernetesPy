{
 "cells": [
  {
   "cell_type": "code",
   "execution_count": 1,
   "metadata": {},
   "outputs": [],
   "source": [
    "from kubernetes import client, config"
   ]
  },
  {
   "cell_type": "code",
   "execution_count": 2,
   "metadata": {},
   "outputs": [],
   "source": [
    "def get_api():\n",
    "    \"\"\" return kubernetes api instance\"\"\"\n",
    "    config.load_kube_config()\n",
    "    configuration = client.Configuration()\n",
    "    api = client.CoreV1Api(client.ApiClient(configuration))\n",
    "    return api"
   ]
  },
  {
   "cell_type": "code",
   "execution_count": 3,
   "metadata": {},
   "outputs": [],
   "source": [
    "def get_batch_v1_api():\n",
    "    \"\"\"get kubernetes BatchV1Api object\"\"\"\n",
    "    return client.BatchV1Api()"
   ]
  },
  {
   "cell_type": "code",
   "execution_count": 5,
   "metadata": {},
   "outputs": [],
   "source": [
    "def remove(name, kind, namespace):\n",
    "    temp = {\"pod\": api.delete_namespaced_pod,\n",
    "            \"job\": batch_v1_api.delete_namespaced_job,\n",
    "            \"config\": api.delete_namespaced_config_map}\n",
    "    \n",
    "    return temp.get(kind)(name=name, namespace=namespace).status"
   ]
  },
  {
   "cell_type": "code",
   "execution_count": null,
   "metadata": {},
   "outputs": [],
   "source": []
  },
  {
   "cell_type": "code",
   "execution_count": 4,
   "metadata": {},
   "outputs": [],
   "source": []
  },
  {
   "cell_type": "code",
   "execution_count": null,
   "metadata": {},
   "outputs": [],
   "source": []
  }
 ],
 "metadata": {
  "kernelspec": {
   "display_name": "Python 3",
   "language": "python",
   "name": "python3"
  },
  "language_info": {
   "codemirror_mode": {
    "name": "ipython",
    "version": 3
   },
   "file_extension": ".py",
   "mimetype": "text/x-python",
   "name": "python",
   "nbconvert_exporter": "python",
   "pygments_lexer": "ipython3",
   "version": "3.7.7"
  }
 },
 "nbformat": 4,
 "nbformat_minor": 4
}

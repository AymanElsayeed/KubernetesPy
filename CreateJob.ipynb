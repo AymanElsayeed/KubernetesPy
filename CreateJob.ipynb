{
 "cells": [
  {
   "cell_type": "code",
   "execution_count": 14,
   "metadata": {
    "tags": []
   },
   "outputs": [],
   "source": [
    "from kubernetes import client, config"
   ]
  },
  {
   "cell_type": "code",
   "execution_count": 15,
   "metadata": {},
   "outputs": [],
   "source": [
    "def get_api():\n",
    "    \"\"\" return kubernetes api instance\"\"\"\n",
    "    config.load_kube_config()\n",
    "    configuration = client.Configuration()\n",
    "    api = client.CoreV1Api(client.ApiClient(configuration))\n",
    "    return api"
   ]
  },
  {
   "cell_type": "code",
   "execution_count": 16,
   "metadata": {},
   "outputs": [],
   "source": [
    "def get_batch_v1_api():\n",
    "    \"\"\"get kubernetes BatchV1Api object\"\"\"\n",
    "    return client.BatchV1Api()"
   ]
  },
  {
   "cell_type": "code",
   "execution_count": 17,
   "metadata": {},
   "outputs": [],
   "source": [
    "api = get_api()\n",
    "batch_v1_api = get_batch_v1_api()"
   ]
  },
  {
   "cell_type": "markdown",
   "metadata": {},
   "source": [
    "### Params"
   ]
  },
  {
   "cell_type": "code",
   "execution_count": 33,
   "metadata": {},
   "outputs": [],
   "source": [
    "node_name = ''\n",
    "toleration = client.V1Toleration(effect='effect', key='key', value='value', operator='operator')\n",
    "restart_policy = 'Never'\n",
    "image_pull_policy = 'Always'\n",
    "\n",
    "\n",
    "\n",
    "completions =  1\n",
    "parallelism = 1\n",
    "ttl_seconds_after_finished =  1\n",
    "\n",
    "namespace = 'default'\n",
    "name = 'job1'\n",
    "\n",
    "image = ''"
   ]
  },
  {
   "cell_type": "markdown",
   "metadata": {},
   "source": [
    "# create Job"
   ]
  },
  {
   "cell_type": "markdown",
   "metadata": {},
   "source": [
    "## body"
   ]
  },
  {
   "cell_type": "code",
   "execution_count": 25,
   "metadata": {},
   "outputs": [],
   "source": [
    "body = client.V1Job(api_version=\"batch/v1\", kind=\"Job\")"
   ]
  },
  {
   "cell_type": "markdown",
   "metadata": {},
   "source": [
    "## Metadata"
   ]
  },
  {
   "cell_type": "code",
   "execution_count": 27,
   "metadata": {},
   "outputs": [],
   "source": [
    "metadata = client.V1ObjectMeta(namespace=namespace, name=name, labels=dict(sid='1', job_type='1'))"
   ]
  },
  {
   "cell_type": "code",
   "execution_count": null,
   "metadata": {},
   "outputs": [],
   "source": []
  },
  {
   "cell_type": "code",
   "execution_count": 28,
   "metadata": {},
   "outputs": [],
   "source": [
    "body.metadata = metadata"
   ]
  },
  {
   "cell_type": "markdown",
   "metadata": {},
   "source": [
    "## Container"
   ]
  },
  {
   "cell_type": "markdown",
   "metadata": {},
   "source": [
    "### Volume"
   ]
  },
  {
   "cell_type": "code",
   "execution_count": 29,
   "metadata": {},
   "outputs": [],
   "source": [
    "mount_name = f\"shared-0\"\n",
    "path = ''\n",
    "volume_mounts: list = []\n",
    "volumes: list = []"
   ]
  },
  {
   "cell_type": "code",
   "execution_count": 30,
   "metadata": {},
   "outputs": [],
   "source": [
    "volume_mounts.append(client.V1VolumeMount(mount_path=path, name=mount_name, read_only=False))"
   ]
  },
  {
   "cell_type": "code",
   "execution_count": 31,
   "metadata": {},
   "outputs": [],
   "source": [
    "volumes.append(client.V1Volume(name=mount_name, host_path=client.V1HostPathVolumeSource(path=path)))"
   ]
  },
  {
   "cell_type": "markdown",
   "metadata": {},
   "source": [
    "### Env Vars"
   ]
  },
  {
   "cell_type": "code",
   "execution_count": 39,
   "metadata": {},
   "outputs": [],
   "source": [
    "envs = dict(a=1, b=2, c=3)"
   ]
  },
  {
   "cell_type": "code",
   "execution_count": 40,
   "metadata": {},
   "outputs": [],
   "source": [
    "env_vars = [client.V1EnvVar(name=name, value=value) for name, value in envs.items()]"
   ]
  },
  {
   "cell_type": "markdown",
   "metadata": {},
   "source": [
    "### arguments"
   ]
  },
  {
   "cell_type": "code",
   "execution_count": 43,
   "metadata": {},
   "outputs": [],
   "source": [
    "args = [\"-a\", \"$(a)\", \"-b\", \"$(b)\", \"-c\", \"$(c)\"]"
   ]
  },
  {
   "cell_type": "code",
   "execution_count": 44,
   "metadata": {},
   "outputs": [],
   "source": [
    "\n",
    "container = client.V1Container(name=name, image=image, env=env_vars, args=args, volume_mounts=volume_mounts,\n",
    "                               image_pull_policy=image_pull_policy)"
   ]
  },
  {
   "cell_type": "markdown",
   "metadata": {},
   "source": [
    "### Pod Template"
   ]
  },
  {
   "cell_type": "code",
   "execution_count": 45,
   "metadata": {},
   "outputs": [],
   "source": [
    "pod_template = client.V1PodTemplate()"
   ]
  },
  {
   "cell_type": "markdown",
   "metadata": {},
   "source": [
    "### Pod Template Spec"
   ]
  },
  {
   "cell_type": "code",
   "execution_count": 47,
   "metadata": {},
   "outputs": [],
   "source": [
    "pod_template_spec = client.V1PodTemplateSpec(metadata=client.V1ObjectMeta(labels=dict(sid=1, job_type=1)))"
   ]
  },
  {
   "cell_type": "code",
   "execution_count": 48,
   "metadata": {},
   "outputs": [],
   "source": [
    "pod_template.template = pod_template_spec"
   ]
  },
  {
   "cell_type": "code",
   "execution_count": null,
   "metadata": {},
   "outputs": [],
   "source": []
  },
  {
   "cell_type": "code",
   "execution_count": 49,
   "metadata": {},
   "outputs": [],
   "source": [
    "if node_name != '':\n",
    "    pod_template.template.spec = client.V1PodSpec(containers=[container], node_name=node_name, volumes=volumes, \n",
    "                                                  restart_policy=restart_policy)\n",
    "elif toleration != '':\n",
    "    pod_template.template.spec = client.V1PodSpec(containers=[container], tolerations=[toleration], volumes=volumes,\n",
    "                                                  restart_policy=restart_policy)"
   ]
  },
  {
   "cell_type": "code",
   "execution_count": 50,
   "metadata": {},
   "outputs": [],
   "source": [
    "body.spec = client.V1JobSpec(template=pod_template.template, completions=completions, parallelism=parallelism,\n",
    "                             ttl_seconds_after_finished=ttl_seconds_after_finished)"
   ]
  },
  {
   "cell_type": "code",
   "execution_count": 51,
   "metadata": {},
   "outputs": [
    {
     "data": {
      "text/plain": [
       "{'api_version': 'batch/v1',\n",
       " 'kind': 'Job',\n",
       " 'metadata': {'annotations': None,\n",
       "              'cluster_name': None,\n",
       "              'creation_timestamp': None,\n",
       "              'deletion_grace_period_seconds': None,\n",
       "              'deletion_timestamp': None,\n",
       "              'finalizers': None,\n",
       "              'generate_name': None,\n",
       "              'generation': None,\n",
       "              'initializers': None,\n",
       "              'labels': {'job_type': '1', 'sid': '1'},\n",
       "              'managed_fields': None,\n",
       "              'name': 'job1',\n",
       "              'namespace': 'default',\n",
       "              'owner_references': None,\n",
       "              'resource_version': None,\n",
       "              'self_link': None,\n",
       "              'uid': None},\n",
       " 'spec': {'active_deadline_seconds': None,\n",
       "          'backoff_limit': None,\n",
       "          'completions': 1,\n",
       "          'manual_selector': None,\n",
       "          'parallelism': 1,\n",
       "          'selector': None,\n",
       "          'template': {'metadata': {'annotations': None,\n",
       "                                    'cluster_name': None,\n",
       "                                    'creation_timestamp': None,\n",
       "                                    'deletion_grace_period_seconds': None,\n",
       "                                    'deletion_timestamp': None,\n",
       "                                    'finalizers': None,\n",
       "                                    'generate_name': None,\n",
       "                                    'generation': None,\n",
       "                                    'initializers': None,\n",
       "                                    'labels': {'job_type': 1, 'sid': 1},\n",
       "                                    'managed_fields': None,\n",
       "                                    'name': None,\n",
       "                                    'namespace': None,\n",
       "                                    'owner_references': None,\n",
       "                                    'resource_version': None,\n",
       "                                    'self_link': None,\n",
       "                                    'uid': None},\n",
       "                       'spec': {'active_deadline_seconds': None,\n",
       "                                'affinity': None,\n",
       "                                'automount_service_account_token': None,\n",
       "                                'containers': [{'args': ['-a',\n",
       "                                                         '$(a)',\n",
       "                                                         '-b',\n",
       "                                                         '$(b)',\n",
       "                                                         '-c',\n",
       "                                                         '$(c)'],\n",
       "                                                'command': None,\n",
       "                                                'env': [{'name': 'a',\n",
       "                                                         'value': 1,\n",
       "                                                         'value_from': None},\n",
       "                                                        {'name': 'b',\n",
       "                                                         'value': 2,\n",
       "                                                         'value_from': None},\n",
       "                                                        {'name': 'c',\n",
       "                                                         'value': 3,\n",
       "                                                         'value_from': None}],\n",
       "                                                'env_from': None,\n",
       "                                                'image': '',\n",
       "                                                'image_pull_policy': 'Always',\n",
       "                                                'lifecycle': None,\n",
       "                                                'liveness_probe': None,\n",
       "                                                'name': 'job1',\n",
       "                                                'ports': None,\n",
       "                                                'readiness_probe': None,\n",
       "                                                'resources': None,\n",
       "                                                'security_context': None,\n",
       "                                                'stdin': None,\n",
       "                                                'stdin_once': None,\n",
       "                                                'termination_message_path': None,\n",
       "                                                'termination_message_policy': None,\n",
       "                                                'tty': None,\n",
       "                                                'volume_devices': None,\n",
       "                                                'volume_mounts': [{'mount_path': '',\n",
       "                                                                   'mount_propagation': None,\n",
       "                                                                   'name': 'shared-0',\n",
       "                                                                   'read_only': False,\n",
       "                                                                   'sub_path': None,\n",
       "                                                                   'sub_path_expr': None}],\n",
       "                                                'working_dir': None}],\n",
       "                                'dns_config': None,\n",
       "                                'dns_policy': None,\n",
       "                                'enable_service_links': None,\n",
       "                                'host_aliases': None,\n",
       "                                'host_ipc': None,\n",
       "                                'host_network': None,\n",
       "                                'host_pid': None,\n",
       "                                'hostname': None,\n",
       "                                'image_pull_secrets': None,\n",
       "                                'init_containers': None,\n",
       "                                'node_name': None,\n",
       "                                'node_selector': None,\n",
       "                                'preemption_policy': None,\n",
       "                                'priority': None,\n",
       "                                'priority_class_name': None,\n",
       "                                'readiness_gates': None,\n",
       "                                'restart_policy': 'Never',\n",
       "                                'runtime_class_name': None,\n",
       "                                'scheduler_name': None,\n",
       "                                'security_context': None,\n",
       "                                'service_account': None,\n",
       "                                'service_account_name': None,\n",
       "                                'share_process_namespace': None,\n",
       "                                'subdomain': None,\n",
       "                                'termination_grace_period_seconds': None,\n",
       "                                'tolerations': [{'effect': 'effect',\n",
       "                                                 'key': 'key',\n",
       "                                                 'operator': 'operator',\n",
       "                                                 'toleration_seconds': None,\n",
       "                                                 'value': 'value'}],\n",
       "                                'volumes': [{'aws_elastic_block_store': None,\n",
       "                                             'azure_disk': None,\n",
       "                                             'azure_file': None,\n",
       "                                             'cephfs': None,\n",
       "                                             'cinder': None,\n",
       "                                             'config_map': None,\n",
       "                                             'csi': None,\n",
       "                                             'downward_api': None,\n",
       "                                             'empty_dir': None,\n",
       "                                             'fc': None,\n",
       "                                             'flex_volume': None,\n",
       "                                             'flocker': None,\n",
       "                                             'gce_persistent_disk': None,\n",
       "                                             'git_repo': None,\n",
       "                                             'glusterfs': None,\n",
       "                                             'host_path': {'path': '',\n",
       "                                                           'type': None},\n",
       "                                             'iscsi': None,\n",
       "                                             'name': 'shared-0',\n",
       "                                             'nfs': None,\n",
       "                                             'persistent_volume_claim': None,\n",
       "                                             'photon_persistent_disk': None,\n",
       "                                             'portworx_volume': None,\n",
       "                                             'projected': None,\n",
       "                                             'quobyte': None,\n",
       "                                             'rbd': None,\n",
       "                                             'scale_io': None,\n",
       "                                             'secret': None,\n",
       "                                             'storageos': None,\n",
       "                                             'vsphere_volume': None}]}},\n",
       "          'ttl_seconds_after_finished': 1},\n",
       " 'status': None}"
      ]
     },
     "execution_count": 51,
     "metadata": {},
     "output_type": "execute_result"
    }
   ],
   "source": [
    "body"
   ]
  },
  {
   "cell_type": "markdown",
   "metadata": {},
   "source": [
    "# Send Create Request"
   ]
  },
  {
   "cell_type": "code",
   "execution_count": null,
   "metadata": {},
   "outputs": [],
   "source": [
    "\n",
    "#api_response = self.batch_v1_api.create_namespaced_job(body=body, namespace=namespace)\n"
   ]
  }
 ],
 "metadata": {
  "kernelspec": {
   "display_name": "Python 3",
   "language": "python",
   "name": "python3"
  },
  "language_info": {
   "codemirror_mode": {
    "name": "ipython",
    "version": 3
   },
   "file_extension": ".py",
   "mimetype": "text/x-python",
   "name": "python",
   "nbconvert_exporter": "python",
   "pygments_lexer": "ipython3",
   "version": "3.7.7"
  }
 },
 "nbformat": 4,
 "nbformat_minor": 4
}
